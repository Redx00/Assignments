{
 "cells": [
  {
   "cell_type": "code",
   "execution_count": null,
   "metadata": {},
   "outputs": [],
   "source": [
    "C\n",
    "C\n",
    "C\n",
    "C\n",
    "B\n",
    "D\n",
    "C\n",
    "B\n",
    "B\n",
    "D"
   ]
  }
 ],
 "metadata": {
  "language_info": {
   "name": "python"
  },
  "orig_nbformat": 4
 },
 "nbformat": 4,
 "nbformat_minor": 2
}
